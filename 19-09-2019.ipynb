{
 "cells": [
  {
   "cell_type": "markdown",
   "metadata": {},
   "source": [
    "## Data encryption and decryption"
   ]
  },
  {
   "cell_type": "markdown",
   "metadata": {},
   "source": [
    "* Data Encryption \n",
    "        Encryption is a security method in which information is encoded in such a way that only authorized user can read it.it uses encryption algorithm to generate ciphertext that can only be read if decrypted.\n",
    "        \n",
    "* Data decryption\n",
    "          Decryption is a process of taking encoded or encrypted text and converting it back into text that you or the computer can read and understand"
   ]
  },
  {
   "cell_type": "markdown",
   "metadata": {},
   "source": [
    "* types\n",
    "        Symmetric (private key):it uses a single key that will be shared among the people who need to receive the message\n",
    "\n",
    "* Asymmetric(public key):\n",
    "        Asymmetric encryption uses a pair of public key and a private key to encrypt and decrypt message\n",
    "        \n",
    "\n",
    "* Write a function to generate key for encryption"
   ]
  },
  {
   "cell_type": "code",
   "execution_count": 4,
   "metadata": {},
   "outputs": [],
   "source": [
    "# function  to generate key for encryption\n",
    "keypath='DataFiles/key.txt'\n",
    "def generatekey(keypath):\n",
    "    with open(keypath,'w') as f:\n",
    "        for i in range(10):\n",
    "            if i<6:\n",
    "                f.write(str(i)+' '+str(i+4)+'\\n')\n",
    "            else:\n",
    "                f.write(str(i)+' '+str(i-6)+'\\n')\n",
    "    return\n",
    "generatekey(keypath)\n"
   ]
  },
  {
   "cell_type": "code",
   "execution_count": 7,
   "metadata": {},
   "outputs": [],
   "source": [
    "# function to decrypt a data File \n",
    "keyfile='dataFiles/key.txt'\n",
    "def dictionarykeyFile(keyfile):\n",
    "    key={}\n",
    "    with open(keyfile,'r')as f:\n",
    "        for line in f:\n",
    "            line=line.split()\n",
    "            key[line[0]]=line[1]\n",
    "    return key\n",
    "def encryptMarkData(datafile,keyfile):\n",
    "    #construct a dictionary for a key data\n",
    "    key=dictionarykeyFile(keyfile)\n",
    "    with open(datafile,'r')as f:\n",
    "        filedata=f.read().split('\\n')\n",
    "        with open('DataFiles/encryptedMarks.txt','w')as f:\n",
    "            for mark in filedata:\n",
    "                line=''\n",
    "                for n in mark:\n",
    "                    line+=key[n]\n",
    "                f.write(line+'\\n')\n",
    "        return\n",
    "datafile='DataFiles/marks.txt'\n",
    "encryptMarkData(datafile,keyfile)"
   ]
  },
  {
   "cell_type": "code",
   "execution_count": 10,
   "metadata": {},
   "outputs": [
    {
     "name": "stdout",
     "output_type": "stream",
     "text": [
      "0.026176163999480195\n"
     ]
    }
   ],
   "source": [
    "def decryptMarksData(encryptedfile,keyfile):\n",
    "    key=dictionarykeyFile(keyfile)\n",
    "    newkey ={}\n",
    "    for key,value in key.items():\n",
    "        newkey[value]=key\n",
    "    with open(encryptedfile,'r')as f:\n",
    "        encrypteddata=f.read().split(\"\\n\")\n",
    "    with open('DataFiles/decryptedMarks.txt','w')as f:\n",
    "        for encryptedmark in encrypteddata:\n",
    "            line=''\n",
    "            for n in encryptedmark:\n",
    "                line+=newkey[n]\n",
    "                f.write(line+'\\n')\n",
    "    return\n",
    "encryptedfile='DataFiles/encryptedMarks.txt'\n",
    "import timeit\n",
    "st=timeit.default_timer()\n",
    "encryptMarkData(encryptedfile,keyfile)\n",
    "print(timeit.default_timer()-st)"
   ]
  },
  {
   "cell_type": "markdown",
   "metadata": {},
   "source": [
    "### numpy arrays"
   ]
  },
  {
   "cell_type": "markdown",
   "metadata": {},
   "source": [
    "## Python Libraries For Data Science\n",
    "         Data science is the process of deriving knowledge and insights from a huge and diverse set of data through organizing, processing and analysing the data. It involves many different disciplines like mathematical and statistical modelling, extracting data from it source and applying data visualization techniques. There are nearly 20 python libraries for Data Science. Top five python libraries are\n",
    "* TensorFlow\n",
    "* NumPy\n",
    "* SciPy\n",
    "* Pandas\n",
    "* Matplotlib In those libraries, Numpy and Pandas are the first choice to the data scientists who are aware of the technologies.\n",
    "### NumPy: (Numerical Python)\n",
    "Numpy is Base N-Dimensional Array Package, is a python library and a fundamental package for scientific computing in Python. It is used to create multidimensional arrays for fast operations. Use the following import conversion. \\Ex: >>import numpy as np\n",
    "### NumPy Arrays\n",
    "NumPy have a fixed size of arrays used to store a collection of elements, unlike python lists. There are three types of arrays called 1D, 2D and 3D arrays."
   ]
  },
  {
   "cell_type": "markdown",
   "metadata": {},
   "source": [
    "## creating 1d and 2d array using numpy"
   ]
  },
  {
   "cell_type": "code",
   "execution_count": 1,
   "metadata": {},
   "outputs": [
    {
     "name": "stdout",
     "output_type": "stream",
     "text": [
      "[2 4 5 6 7 9]\n",
      "<class 'numpy.ndarray'>\n"
     ]
    }
   ],
   "source": [
    "import numpy as np\n",
    "array_id=np.array([2,4,5,6,7,9])\n",
    "print(array_id)\n",
    "print(type(array_id))"
   ]
  },
  {
   "cell_type": "code",
   "execution_count": 2,
   "metadata": {},
   "outputs": [
    {
     "name": "stdout",
     "output_type": "stream",
     "text": [
      "[[2 3 4]\n",
      " [5 8 7]]\n"
     ]
    }
   ],
   "source": [
    "import numpy as np\n",
    "array_2d=np.array([[2,3,4,],[5,8,7]])\n",
    "print(array_2d)"
   ]
  },
  {
   "cell_type": "markdown",
   "metadata": {},
   "source": [
    "* program to print the given list into an array using numpy"
   ]
  },
  {
   "cell_type": "code",
   "execution_count": 3,
   "metadata": {},
   "outputs": [
    {
     "name": "stdout",
     "output_type": "stream",
     "text": [
      "['1' '2' '3' 'z']\n"
     ]
    }
   ],
   "source": [
    "import numpy as np\n",
    "li=[1,2,3,'z']\n",
    "a=np.array(li)\n",
    "print(a)"
   ]
  },
  {
   "cell_type": "code",
   "execution_count": 4,
   "metadata": {},
   "outputs": [
    {
     "data": {
      "text/plain": [
       "array(['1', '2', '3', 'z'], dtype='<U11')"
      ]
     },
     "execution_count": 4,
     "metadata": {},
     "output_type": "execute_result"
    }
   ],
   "source": [
    "import numpy as np\n",
    "li=[1,2,3,'z']\n",
    "a=np.array(li)\n",
    "a"
   ]
  },
  {
   "cell_type": "code",
   "execution_count": 5,
   "metadata": {},
   "outputs": [
    {
     "data": {
      "text/plain": [
       "array([1, 2, 3, 4, 0])"
      ]
     },
     "execution_count": 5,
     "metadata": {},
     "output_type": "execute_result"
    }
   ],
   "source": [
    "import numpy as np\n",
    "li=[1,2,3,4,0]\n",
    "a=np.array(li)\n",
    "a"
   ]
  },
  {
   "cell_type": "markdown",
   "metadata": {},
   "source": [
    "* for example the following code print 1d array between 1 to 15"
   ]
  },
  {
   "cell_type": "code",
   "execution_count": 6,
   "metadata": {},
   "outputs": [
    {
     "name": "stdout",
     "output_type": "stream",
     "text": [
      "[ 0  1  2  3  4  5  6  7  8  9 10 11 12 13 14]\n"
     ]
    }
   ],
   "source": [
    "import numpy as np\n",
    "a=np.arange(15)\n",
    "print(a)"
   ]
  },
  {
   "cell_type": "code",
   "execution_count": 7,
   "metadata": {},
   "outputs": [
    {
     "data": {
      "text/plain": [
       "array([ 0,  1,  2,  3,  4,  5,  6,  7,  8,  9, 10, 11, 12, 13, 14])"
      ]
     },
     "execution_count": 7,
     "metadata": {},
     "output_type": "execute_result"
    }
   ],
   "source": [
    "import numpy as np\n",
    "a=np.arange(15)\n",
    "a"
   ]
  },
  {
   "cell_type": "markdown",
   "metadata": {},
   "source": [
    "* for example, the following code print 1000 numbers ina 1d array"
   ]
  },
  {
   "cell_type": "code",
   "execution_count": 9,
   "metadata": {},
   "outputs": [
    {
     "data": {
      "text/plain": [
       "array([   0,    1,    2, ..., 9997, 9998, 9999])"
      ]
     },
     "execution_count": 9,
     "metadata": {},
     "output_type": "execute_result"
    }
   ],
   "source": [
    "import numpy as np\n",
    "a2=np.arange(10000)\n",
    "a2"
   ]
  },
  {
   "cell_type": "code",
   "execution_count": 10,
   "metadata": {},
   "outputs": [
    {
     "data": {
      "text/plain": [
       "array([[   0,    1,    2, ...,   97,   98,   99],\n",
       "       [ 100,  101,  102, ...,  197,  198,  199],\n",
       "       [ 200,  201,  202, ...,  297,  298,  299],\n",
       "       ...,\n",
       "       [9700, 9701, 9702, ..., 9797, 9798, 9799],\n",
       "       [9800, 9801, 9802, ..., 9897, 9898, 9899],\n",
       "       [9900, 9901, 9902, ..., 9997, 9998, 9999]])"
      ]
     },
     "execution_count": 10,
     "metadata": {},
     "output_type": "execute_result"
    }
   ],
   "source": [
    "a2=np.arange(10000).reshape(100,100)\n",
    "a2"
   ]
  },
  {
   "cell_type": "code",
   "execution_count": 11,
   "metadata": {},
   "outputs": [
    {
     "name": "stdout",
     "output_type": "stream",
     "text": [
      "[[   0    1    2 ...   97   98   99]\n",
      " [ 100  101  102 ...  197  198  199]\n",
      " [ 200  201  202 ...  297  298  299]\n",
      " ...\n",
      " [9700 9701 9702 ... 9797 9798 9799]\n",
      " [9800 9801 9802 ... 9897 9898 9899]\n",
      " [9900 9901 9902 ... 9997 9998 9999]]\n"
     ]
    }
   ],
   "source": [
    "a2=np.arange(10000).reshape(100,100)\n",
    "print(a2)"
   ]
  },
  {
   "cell_type": "markdown",
   "metadata": {},
   "source": [
    " * create a 2d array and inspect size,shape,dimensions and dtype of the array"
   ]
  },
  {
   "cell_type": "markdown",
   "metadata": {},
   "source": [
    "### Inspect the structure and Content of array using “ndarrays”\n",
    "* The most basic object in NumPy is the “ndarray” object or simply an “array”.\n",
    "* The ndarray has important attributes. They are\n",
    "    * ndarray.ndim: No of dimensions of array referred as “rank”.\n",
    "    * ndarray.shape: Returns the length of the array in tuple.\n",
    "    * ndarray.size: Returns the size of an array.\n",
    "    * ndarray.dtype: We can create or specify “dtype” using standard Python types. NumPy provides            types like numpy.int32, numpy.int16, and numpy.float64\n",
    "    * ndarray.itemsize: Returns the size in bytes of each element in an array\n",
    "#### Create a 2D Array and inspect size, shape, dimensions and dtype of the array."
   ]
  },
  {
   "cell_type": "code",
   "execution_count": 13,
   "metadata": {},
   "outputs": [
    {
     "name": "stdout",
     "output_type": "stream",
     "text": [
      "shape (3, 3)\n",
      "size: 9\n",
      "dtype: int32\n",
      "Itemsize: 4\n",
      "data: <memory at 0x0000022765007990>\n"
     ]
    },
    {
     "data": {
      "text/plain": [
       "array([[1, 0, 0],\n",
       "       [1, 1, 0],\n",
       "       [0, 0, 0]])"
      ]
     },
     "execution_count": 13,
     "metadata": {},
     "output_type": "execute_result"
    }
   ],
   "source": [
    "import numpy as p\n",
    "array1=np.random.randint(0,2,size=(3,3))\n",
    "array1[2][2]\n",
    "print('shape',array1.shape)\n",
    "print('size:',array1.size)\n",
    "print('dtype:',array1.dtype)\n",
    "print('Itemsize:',array1.itemsize)\n",
    "print('data:',array1.data)\n",
    "array1"
   ]
  },
  {
   "cell_type": "code",
   "execution_count": 14,
   "metadata": {},
   "outputs": [
    {
     "data": {
      "text/plain": [
       "array([[1, 2, 3, 4],\n",
       "       [5, 6, 7, 8]])"
      ]
     },
     "execution_count": 14,
     "metadata": {},
     "output_type": "execute_result"
    }
   ],
   "source": [
    "array1=[[1,2,3,4],[5,6,7,8]]\n",
    "a1=np.array(array1)\n",
    "a1"
   ]
  },
  {
   "cell_type": "code",
   "execution_count": 18,
   "metadata": {},
   "outputs": [
    {
     "name": "stdout",
     "output_type": "stream",
     "text": [
      "shape: (2, 4)\n",
      "data type: int32\n",
      "size: 8\n"
     ]
    }
   ],
   "source": [
    "print(\"shape:\",a1.shape)\n",
    "print(\"data type:\",a1.dtype)\n",
    "print(\"size:\",a1.size)\n"
   ]
  },
  {
   "cell_type": "code",
   "execution_count": 19,
   "metadata": {},
   "outputs": [
    {
     "data": {
      "text/plain": [
       "array([[ 0,  1,  2,  3,  4],\n",
       "       [ 5,  6,  7,  8,  9],\n",
       "       [10, 11, 12, 13, 14]])"
      ]
     },
     "execution_count": 19,
     "metadata": {},
     "output_type": "execute_result"
    }
   ],
   "source": [
    "import numpy as np\n",
    "arr=np.arange(15).reshape(3,5)\n",
    "arr"
   ]
  },
  {
   "cell_type": "markdown",
   "metadata": {},
   "source": [
    "* reverse the array using slicing"
   ]
  },
  {
   "cell_type": "code",
   "execution_count": 20,
   "metadata": {},
   "outputs": [
    {
     "data": {
      "text/plain": [
       "array([[10, 11, 12, 13, 14],\n",
       "       [ 5,  6,  7,  8,  9],\n",
       "       [ 0,  1,  2,  3,  4]])"
      ]
     },
     "execution_count": 20,
     "metadata": {},
     "output_type": "execute_result"
    }
   ],
   "source": [
    "arr[::-1]"
   ]
  },
  {
   "cell_type": "markdown",
   "metadata": {},
   "source": [
    "* create a an array of 1's.Take a list & convert it into a #d array and add 1 to each element ina an array"
   ]
  },
  {
   "cell_type": "code",
   "execution_count": 25,
   "metadata": {},
   "outputs": [],
   "source": [
    "np.ones?"
   ]
  },
  {
   "cell_type": "code",
   "execution_count": 21,
   "metadata": {},
   "outputs": [
    {
     "name": "stdout",
     "output_type": "stream",
     "text": [
      "[[1. 1. 1.]\n",
      " [1. 1. 1.]\n",
      " [1. 1. 1.]]\n"
     ]
    }
   ],
   "source": [
    "import numpy as np\n",
    "a=np.ones((3,3))\n",
    "print(a)"
   ]
  },
  {
   "cell_type": "code",
   "execution_count": 23,
   "metadata": {},
   "outputs": [
    {
     "data": {
      "text/plain": [
       "array([[ 1,  2,  3],\n",
       "       [10, 20, 30],\n",
       "       [11, 22, 33]])"
      ]
     },
     "execution_count": 23,
     "metadata": {},
     "output_type": "execute_result"
    }
   ],
   "source": [
    "b=[[1,2,3],[10,20,30],[11,22,33]]\n",
    "c=np.array(b)\n",
    "c"
   ]
  },
  {
   "cell_type": "code",
   "execution_count": 24,
   "metadata": {},
   "outputs": [
    {
     "data": {
      "text/plain": [
       "array([[ 2,  3,  4],\n",
       "       [11, 21, 31],\n",
       "       [12, 23, 34]])"
      ]
     },
     "execution_count": 24,
     "metadata": {},
     "output_type": "execute_result"
    }
   ],
   "source": [
    "d=c+1\n",
    "d\n"
   ]
  },
  {
   "cell_type": "markdown",
   "metadata": {},
   "source": [
    "* we can perform arithmetic operators in numpy like addition,subtraction etc.,also log sin cos"
   ]
  },
  {
   "cell_type": "code",
   "execution_count": 27,
   "metadata": {},
   "outputs": [
    {
     "name": "stdout",
     "output_type": "stream",
     "text": [
      "[[1 2 3]\n",
      " [4 5 6]]\n",
      "[[ 5  6  7]\n",
      " [ 8  9 10]] \n",
      "\n",
      "[[ 6  8 10]\n",
      " [12 14 16]]\n"
     ]
    }
   ],
   "source": [
    "a=np.arange(1,7).reshape(2,3)\n",
    "b=np.arange(5,11).reshape(2,3)\n",
    "print(a,)\n",
    "print(b,'\\n')\n",
    "print(a+b)\n",
    "print(a/b)"
   ]
  },
  {
   "cell_type": "code",
   "execution_count": 28,
   "metadata": {},
   "outputs": [
    {
     "name": "stdout",
     "output_type": "stream",
     "text": [
      "[1.         1.41421356 1.73205081]\n",
      "[0.84147098 0.90929743 0.14112001]\n",
      "[ 0.54030231 -0.41614684 -0.9899925 ]\n",
      "[0.         0.69314718 1.09861229]\n"
     ]
    }
   ],
   "source": [
    "a=[1,2,3]\n",
    "a1=np.array(a)\n",
    "print(np.sqrt(a1))\n",
    "print(np.sin(a1))\n",
    "print(np.cos(a1))\n",
    "print(np.log(a1))"
   ]
  },
  {
   "cell_type": "code",
   "execution_count": null,
   "metadata": {},
   "outputs": [],
   "source": []
  }
 ],
 "metadata": {
  "kernelspec": {
   "display_name": "Python 3",
   "language": "python",
   "name": "python3"
  },
  "language_info": {
   "codemirror_mode": {
    "name": "ipython",
    "version": 3
   },
   "file_extension": ".py",
   "mimetype": "text/x-python",
   "name": "python",
   "nbconvert_exporter": "python",
   "pygments_lexer": "ipython3",
   "version": "3.7.3"
  }
 },
 "nbformat": 4,
 "nbformat_minor": 2
}
